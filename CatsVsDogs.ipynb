{
 "cells": [
  {
   "cell_type": "markdown",
   "metadata": {},
   "source": [
    "# Classification: Cats VS Dogs\n",
    "\n",
    "We downloaded the dataset from kaggle. The training archive contains 25,000 images of dogs and cats. "
   ]
  },
  {
   "cell_type": "markdown",
   "metadata": {},
   "source": [
    "# Using own data with included Datasets"
   ]
  },
  {
   "cell_type": "code",
   "execution_count": 1,
   "metadata": {},
   "outputs": [],
   "source": [
    "import os\n",
    "import mxnet as mx\n",
    "import matplotlib.pyplot as plt\n",
    "from mxnet import gluon\n",
    "from mxnet import nd, autograd\n",
    "import numpy as np"
   ]
  },
  {
   "cell_type": "code",
   "execution_count": 2,
   "metadata": {},
   "outputs": [],
   "source": [
    "def aug_transform(data, label):\n",
    "    data = data.astype('float32')/255 # normalize the data\n",
    "    size= 224\n",
    "    aug = mx.image.ForceResizeAug((size,size)) # resize the image to 224x224\n",
    "    data = aug(data)\n",
    "    data=data.transpose((2, 0, 1))\n",
    "    return data, label"
   ]
  },
  {
   "cell_type": "markdown",
   "metadata": {},
   "source": [
    "# Reading Training date"
   ]
  },
  {
   "cell_type": "code",
   "execution_count": 3,
   "metadata": {},
   "outputs": [
    {
     "name": "stdout",
     "output_type": "stream",
     "text": [
      "data/CatsVsDogs\n"
     ]
    }
   ],
   "source": [
    "data_folder = \"data\"\n",
    "dataset_name = \"CatsVsDogs\"\n",
    "\n",
    "training_path = os.path.join(data_folder, dataset_name)\n",
    "print(training_path)\n",
    "\n",
    "train_dataset = mx.gluon.data.vision.datasets.ImageFolderDataset(training_path,transform=aug_transform)\n",
    "\n"
   ]
  },
  {
   "cell_type": "code",
   "execution_count": 4,
   "metadata": {},
   "outputs": [
    {
     "name": "stdout",
     "output_type": "stream",
     "text": [
      "Data type: (3, 224, 224)\n",
      "Label: 1\n",
      "Label description: dog\n"
     ]
    }
   ],
   "source": [
    "sample_idx = 17990\n",
    "sample = train_dataset[sample_idx]\n",
    "data = sample[0]\n",
    "label = sample[1]\n",
    "\n",
    "#plt.imshow(data.asnumpy(), cmap='gray')\n",
    "print(\"Data type: {}\".format(data.shape))\n",
    "print(\"Label: {}\".format(label))\n",
    "print(\"Label description: {}\".format(train_dataset.synsets[label]))\n",
    "assert label == 1"
   ]
  },
  {
   "cell_type": "markdown",
   "metadata": {},
   "source": [
    "# Test data"
   ]
  },
  {
   "cell_type": "code",
   "execution_count": 5,
   "metadata": {},
   "outputs": [
    {
     "name": "stdout",
     "output_type": "stream",
     "text": [
      "data/CatsVsDogs_test\n"
     ]
    }
   ],
   "source": [
    "testing_path = os.path.join(data_folder, \"{}_test\".format(dataset_name))\n",
    "print(testing_path)\n",
    "test_dataset = mx.gluon.data.vision.datasets.ImageFolderDataset(testing_path,transform=aug_transform)"
   ]
  },
  {
   "cell_type": "code",
   "execution_count": 6,
   "metadata": {},
   "outputs": [
    {
     "name": "stdout",
     "output_type": "stream",
     "text": [
      "Data type: (3, 224, 224)\n",
      "Label: 0\n",
      "Label description: cat\n"
     ]
    }
   ],
   "source": [
    "sample_idx = 199\n",
    "\n",
    "sample = test_dataset[sample_idx]\n",
    "data = sample[0]\n",
    "label = sample[1]\n",
    "\n",
    "#plt.imshow(data.asnumpy(), cmap='gray')\n",
    "print(\"Data type: {}\".format(data.shape))\n",
    "print(\"Label: {}\".format(label))\n",
    "print(\"Label description: {}\".format(train_dataset.synsets[label]))"
   ]
  },
  {
   "cell_type": "markdown",
   "metadata": {},
   "source": [
    "# Batch size and DataLoader for train_data, test_dataset"
   ]
  },
  {
   "cell_type": "code",
   "execution_count": 7,
   "metadata": {},
   "outputs": [],
   "source": [
    "batch_size = 128\n",
    "train_data = gluon.data.DataLoader(train_dataset, batch_size, shuffle=True)\n",
    "test_data = gluon.data.DataLoader(test_dataset,batch_size, shuffle=False)"
   ]
  },
  {
   "cell_type": "markdown",
   "metadata": {},
   "source": [
    "# The AlexNet architecture"
   ]
  },
  {
   "cell_type": "code",
   "execution_count": 8,
   "metadata": {},
   "outputs": [],
   "source": [
    "alex_net = gluon.nn.HybridSequential()\n",
    "with alex_net.name_scope():\n",
    "    #  First convolutional layer\n",
    "    alex_net.add(gluon.nn.Conv2D(64, kernel_size=11, strides=4,padding=2, activation='relu'))    \n",
    "    alex_net.add(gluon.nn.MaxPool2D(pool_size=3, strides=2))\n",
    "    #  Second convolutional layer\n",
    "    alex_net.add(gluon.nn.Conv2D(192, kernel_size=5, padding=2, activation='relu'))\n",
    "    alex_net.add(gluon.nn.MaxPool2D(pool_size=3, strides=2))\n",
    "    # Third convolutional layer\n",
    "    alex_net.add(gluon.nn.Conv2D(384, kernel_size=3, padding=1, activation='relu'))\n",
    "    # Fourth convolutional layer\n",
    "    alex_net.add(gluon.nn.Conv2D(256, kernel_size=3, padding=1, activation='relu'))\n",
    "    # Fifth convolutional layer\n",
    "    alex_net.add(gluon.nn.Conv2D(256, kernel_size=3, padding=1, activation='relu'))\n",
    "    alex_net.add(gluon.nn.MaxPool2D(pool_size=3, strides=2))\n",
    "     # Flatten and apply fullly connected layers\n",
    "    alex_net.add(gluon.nn.Flatten())\n",
    "    alex_net.add(gluon.nn.Dense(4096, activation='relu'))\n",
    "    alex_net.add(gluon.nn.Dropout(0.5))\n",
    "    alex_net.add(gluon.nn.Dense(4096, activation='relu'))\n",
    "    alex_net.add(gluon.nn.Dropout(0.5))\n",
    "    alex_net.add(gluon.nn.Dense(2))\n",
    "            \n",
    "    "
   ]
  },
  {
   "cell_type": "markdown",
   "metadata": {},
   "source": [
    "# Initialize parameters"
   ]
  },
  {
   "cell_type": "code",
   "execution_count": 9,
   "metadata": {},
   "outputs": [],
   "source": [
    "ctx = mx.gpu()\n",
    "alex_net.collect_params().initialize(mx.init.Xavier(magnitude=2.24), ctx=ctx)"
   ]
  },
  {
   "cell_type": "markdown",
   "metadata": {},
   "source": [
    "# Optimizer "
   ]
  },
  {
   "cell_type": "code",
   "execution_count": 10,
   "metadata": {},
   "outputs": [],
   "source": [
    "trainer = gluon.Trainer(alex_net.collect_params(), 'adam', {'learning_rate': .0001})"
   ]
  },
  {
   "cell_type": "markdown",
   "metadata": {},
   "source": [
    "# Softmax cross-entropy loss"
   ]
  },
  {
   "cell_type": "code",
   "execution_count": 11,
   "metadata": {},
   "outputs": [],
   "source": [
    "softmax_cross_entropy = gluon.loss.SoftmaxCrossEntropyLoss()"
   ]
  },
  {
   "cell_type": "markdown",
   "metadata": {},
   "source": [
    "# Evaluation Loop"
   ]
  },
  {
   "cell_type": "code",
   "execution_count": 12,
   "metadata": {},
   "outputs": [],
   "source": [
    "def evaluate_accuracy(data_iterator, net):\n",
    "    acc = mx.metric.Accuracy()\n",
    "    curr_loss= []\n",
    "    for d, l in data_iterator:\n",
    "        data = d.as_in_context(ctx)\n",
    "        label = l.as_in_context(ctx)\n",
    "        output = net(data)\n",
    "        \n",
    "        loss = softmax_cross_entropy(output, label)\n",
    "        \n",
    "        predictions = nd.argmax(output, axis=1)\n",
    "        acc.update(preds=[predictions], labels=[label])\n",
    "        \n",
    "        curr_loss.append(nd.mean(loss).asscalar())\n",
    "        \n",
    "        #print(acc)\n",
    "    \n",
    "    return acc.get()[1], np.average(curr_loss)"
   ]
  },
  {
   "cell_type": "markdown",
   "metadata": {},
   "source": [
    "# Training loop"
   ]
  },
  {
   "cell_type": "code",
   "execution_count": 13,
   "metadata": {
    "scrolled": false
   },
   "outputs": [
    {
     "name": "stdout",
     "output_type": "stream",
     "text": [
      "[Epoch 0 Batch 10] Loss: 0.6943047587383679 Training accuracy=0.489347\n",
      "[Epoch 0 Batch 20] Loss: 0.6941533888310099 Training accuracy=0.496280\n",
      "[Epoch 0 Batch 30] Loss: 0.6934086133143494 Training accuracy=0.503528\n",
      "[Epoch 0 Batch 40] Loss: 0.6917674320050085 Training accuracy=0.518674\n",
      "[Epoch 0 Batch 50] Loss: 0.688668707648033 Training accuracy=0.524357\n",
      "[Epoch 0 Batch 60] Loss: 0.6792871089963084 Training accuracy=0.531762\n",
      "[Epoch 0 Batch 70] Loss: 0.6720514663795649 Training accuracy=0.540163\n",
      "[Epoch 0 Batch 80] Loss: 0.6633489719386878 Training accuracy=0.548708\n",
      "[Epoch 0 Batch 90] Loss: 0.6580686605876566 Training accuracy=0.555288\n",
      "[Epoch 0 Batch 100] Loss: 0.6615737169961216 Training accuracy=0.559406\n",
      "[Epoch 0 Batch 110] Loss: 0.6591270890243752 Training accuracy=0.562852\n",
      "[Epoch 0 Batch 120] Loss: 0.6337564839585329 Training accuracy=0.570958\n",
      "[Epoch 0 Batch 130] Loss: 0.6436845138134603 Training accuracy=0.574129\n",
      "[Epoch 0 Batch 140] Loss: 0.6419850874522944 Training accuracy=0.576795\n",
      "[Epoch 0 Batch 150] Loss: 0.6213879449831293 Training accuracy=0.582109\n",
      "[Epoch 0 Batch 160] Loss: 0.618230117224028 Training accuracy=0.586374\n",
      "[Epoch 0 Batch 170] Loss: 0.5990314692466919 Training accuracy=0.591466\n",
      "[Epoch 0 Batch 180] Loss: 0.5933710500269196 Training accuracy=0.596685\n",
      "\n",
      "Epoch 0., Validation Accuracy 0.663,Validation Loss =0.59984416 \n",
      "\n",
      "[Epoch 1 Batch 10] Loss: 0.5869532139720589 Training accuracy=0.691051\n",
      "[Epoch 1 Batch 20] Loss: 0.5590370449037999 Training accuracy=0.708705\n",
      "[Epoch 1 Batch 30] Loss: 0.5692443096290922 Training accuracy=0.700857\n",
      "[Epoch 1 Batch 40] Loss: 0.5441658023499993 Training accuracy=0.709223\n",
      "[Epoch 1 Batch 50] Loss: 0.536174941913377 Training accuracy=0.712929\n",
      "[Epoch 1 Batch 60] Loss: 0.5382332133824579 Training accuracy=0.715292\n",
      "[Epoch 1 Batch 70] Loss: 0.5334307728832286 Training accuracy=0.718200\n",
      "[Epoch 1 Batch 80] Loss: 0.5348385435499718 Training accuracy=0.721065\n",
      "[Epoch 1 Batch 90] Loss: 0.5088846356037641 Training accuracy=0.723043\n",
      "[Epoch 1 Batch 100] Loss: 0.49408583099951137 Training accuracy=0.726949\n",
      "[Epoch 1 Batch 110] Loss: 0.4940323085863148 Training accuracy=0.730434\n",
      "[Epoch 1 Batch 120] Loss: 0.47581216195292464 Training accuracy=0.735860\n",
      "[Epoch 1 Batch 130] Loss: 0.49318611983953436 Training accuracy=0.738013\n",
      "[Epoch 1 Batch 140] Loss: 0.5019231651556332 Training accuracy=0.739085\n",
      "[Epoch 1 Batch 150] Loss: 0.46196316504643703 Training accuracy=0.742446\n",
      "[Epoch 1 Batch 160] Loss: 0.4797750632384565 Training accuracy=0.744614\n",
      "[Epoch 1 Batch 170] Loss: 0.5013496762351797 Training accuracy=0.744609\n",
      "[Epoch 1 Batch 180] Loss: 0.4781799860979714 Training accuracy=0.746115\n",
      "\n",
      "Epoch 1., Validation Accuracy 0.783,Validation Loss =0.44959182 \n",
      "\n",
      "[Epoch 2 Batch 10] Loss: 0.4450794957925961 Training accuracy=0.798295\n",
      "[Epoch 2 Batch 20] Loss: 0.4379324519220749 Training accuracy=0.796875\n",
      "[Epoch 2 Batch 30] Loss: 0.48195876096183843 Training accuracy=0.782510\n",
      "[Epoch 2 Batch 40] Loss: 0.45432432184031674 Training accuracy=0.786395\n",
      "[Epoch 2 Batch 50] Loss: 0.4392188333400588 Training accuracy=0.787531\n",
      "[Epoch 2 Batch 60] Loss: 0.41101684018117923 Training accuracy=0.794954\n",
      "[Epoch 2 Batch 70] Loss: 0.3980045547969931 Training accuracy=0.800286\n",
      "[Epoch 2 Batch 80] Loss: 0.3722315680402877 Training accuracy=0.804688\n",
      "[Epoch 2 Batch 90] Loss: 0.43061317378927927 Training accuracy=0.802455\n",
      "[Epoch 2 Batch 100] Loss: 0.43363468701106705 Training accuracy=0.802599\n",
      "[Epoch 2 Batch 110] Loss: 0.42351894064893025 Training accuracy=0.802787\n",
      "[Epoch 2 Batch 120] Loss: 0.4094805405036158 Training accuracy=0.804300\n",
      "[Epoch 2 Batch 130] Loss: 0.40759148336345186 Training accuracy=0.804747\n",
      "[Epoch 2 Batch 140] Loss: 0.4255526199226361 Training accuracy=0.803579\n",
      "[Epoch 2 Batch 150] Loss: 0.3819911754088454 Training accuracy=0.806395\n",
      "[Epoch 2 Batch 160] Loss: 0.40065072891009273 Training accuracy=0.806483\n",
      "[Epoch 2 Batch 170] Loss: 0.3759578994668477 Training accuracy=0.808160\n",
      "[Epoch 2 Batch 180] Loss: 0.361784407940041 Training accuracy=0.810169\n",
      "\n",
      "Epoch 2., Validation Accuracy 0.813,Validation Loss =0.38776207 \n",
      "\n",
      "[Epoch 3 Batch 10] Loss: 0.36972899060547526 Training accuracy=0.839489\n",
      "[Epoch 3 Batch 20] Loss: 0.3684050509724657 Training accuracy=0.841518\n",
      "[Epoch 3 Batch 30] Loss: 0.3443994873649934 Training accuracy=0.847782\n",
      "[Epoch 3 Batch 40] Loss: 0.3612271954777972 Training accuracy=0.842416\n",
      "[Epoch 3 Batch 50] Loss: 0.34095239659538135 Training accuracy=0.843903\n",
      "[Epoch 3 Batch 60] Loss: 0.3278450590121161 Training accuracy=0.847592\n",
      "[Epoch 3 Batch 70] Loss: 0.3284082823934926 Training accuracy=0.848702\n",
      "[Epoch 3 Batch 80] Loss: 0.3362947648136632 Training accuracy=0.848669\n",
      "[Epoch 3 Batch 90] Loss: 0.3595334637149551 Training accuracy=0.845725\n",
      "[Epoch 3 Batch 100] Loss: 0.363279285953079 Training accuracy=0.844524\n",
      "[Epoch 3 Batch 110] Loss: 0.33999151253923576 Training accuracy=0.845861\n",
      "[Epoch 3 Batch 120] Loss: 0.32782772716764175 Training accuracy=0.846462\n",
      "[Epoch 3 Batch 130] Loss: 0.3116849237707093 Training accuracy=0.848461\n",
      "[Epoch 3 Batch 140] Loss: 0.3196189606061749 Training accuracy=0.849235\n",
      "[Epoch 3 Batch 150] Loss: 0.317522805982347 Training accuracy=0.849959\n",
      "[Epoch 3 Batch 160] Loss: 0.32510784290356226 Training accuracy=0.850738\n",
      "[Epoch 3 Batch 170] Loss: 0.31781749061510334 Training accuracy=0.851654\n",
      "[Epoch 3 Batch 180] Loss: 0.3233840604181075 Training accuracy=0.851606\n",
      "\n",
      "Epoch 3., Validation Accuracy 0.854,Validation Loss =0.31046563 \n",
      "\n",
      "[Epoch 4 Batch 10] Loss: 0.3176976182731267 Training accuracy=0.868608\n",
      "[Epoch 4 Batch 20] Loss: 0.3184951518082439 Training accuracy=0.864955\n",
      "[Epoch 4 Batch 30] Loss: 0.30616063753978484 Training accuracy=0.871220\n",
      "[Epoch 4 Batch 40] Loss: 0.33735047953579594 Training accuracy=0.862995\n",
      "[Epoch 4 Batch 50] Loss: 0.3055624098334972 Training accuracy=0.865809\n",
      "[Epoch 4 Batch 60] Loss: 0.26178720274027223 Training accuracy=0.869749\n",
      "[Epoch 4 Batch 70] Loss: 0.27247239937894824 Training accuracy=0.870599\n",
      "[Epoch 4 Batch 80] Loss: 0.28008856609408667 Training accuracy=0.870949\n",
      "[Epoch 4 Batch 90] Loss: 0.27718874216686024 Training accuracy=0.872339\n",
      "[Epoch 4 Batch 100] Loss: 0.2862523239841994 Training accuracy=0.871983\n",
      "[Epoch 4 Batch 110] Loss: 0.2747741535044807 Training accuracy=0.872537\n",
      "[Epoch 4 Batch 120] Loss: 0.29372592062396935 Training accuracy=0.871126\n",
      "[Epoch 4 Batch 130] Loss: 0.26539010038825056 Training accuracy=0.872734\n",
      "[Epoch 4 Batch 140] Loss: 0.2851962669342274 Training accuracy=0.872340\n",
      "[Epoch 4 Batch 150] Loss: 0.2922044783378885 Training accuracy=0.872724\n",
      "[Epoch 4 Batch 160] Loss: 0.28276627642420843 Training accuracy=0.872962\n",
      "[Epoch 4 Batch 170] Loss: 0.2671828013102839 Training accuracy=0.874269\n",
      "[Epoch 4 Batch 180] Loss: 0.23808522736366633 Training accuracy=0.876122\n",
      "\n",
      "Epoch 4., Validation Accuracy 0.886,Validation Loss =0.2814885 \n",
      "\n",
      "[Epoch 5 Batch 10] Loss: 0.23538887845870565 Training accuracy=0.906960\n",
      "[Epoch 5 Batch 20] Loss: 0.2512164928646118 Training accuracy=0.900670\n",
      "[Epoch 5 Batch 30] Loss: 0.23605727026914933 Training accuracy=0.900706\n",
      "[Epoch 5 Batch 40] Loss: 0.2351022558431512 Training accuracy=0.899962\n",
      "[Epoch 5 Batch 50] Loss: 0.22831778795310886 Training accuracy=0.902880\n",
      "[Epoch 5 Batch 60] Loss: 0.23989655407194718 Training accuracy=0.901767\n",
      "[Epoch 5 Batch 70] Loss: 0.2411815445620956 Training accuracy=0.899758\n",
      "[Epoch 5 Batch 80] Loss: 0.2509087255056993 Training accuracy=0.898823\n",
      "[Epoch 5 Batch 90] Loss: 0.2350756989355416 Training accuracy=0.899725\n",
      "[Epoch 5 Batch 100] Loss: 0.24514385366243582 Training accuracy=0.899211\n",
      "[Epoch 5 Batch 110] Loss: 0.2445904806800327 Training accuracy=0.899001\n",
      "[Epoch 5 Batch 120] Loss: 0.22869786967366182 Training accuracy=0.899471\n",
      "[Epoch 5 Batch 130] Loss: 0.22731753594220946 Training accuracy=0.900525\n",
      "[Epoch 5 Batch 140] Loss: 0.2499203088451899 Training accuracy=0.899213\n",
      "[Epoch 5 Batch 150] Loss: 0.22409447237410515 Training accuracy=0.899938\n",
      "[Epoch 5 Batch 160] Loss: 0.23538502485488116 Training accuracy=0.899505\n",
      "[Epoch 5 Batch 170] Loss: 0.23370697060367318 Training accuracy=0.899854\n",
      "[Epoch 5 Batch 180] Loss: 0.2228153880048108 Training accuracy=0.900466\n",
      "\n",
      "Epoch 5., Validation Accuracy 0.886,Validation Loss =0.25669345 \n",
      "\n",
      "[Epoch 6 Batch 10] Loss: 0.18228936341603388 Training accuracy=0.937500\n"
     ]
    },
    {
     "name": "stdout",
     "output_type": "stream",
     "text": [
      "[Epoch 6 Batch 20] Loss: 0.17511518565934164 Training accuracy=0.935640\n",
      "[Epoch 6 Batch 30] Loss: 0.19537335389077587 Training accuracy=0.931956\n",
      "[Epoch 6 Batch 40] Loss: 0.18498035282305542 Training accuracy=0.930450\n",
      "[Epoch 6 Batch 50] Loss: 0.1712485451325485 Training accuracy=0.929841\n",
      "[Epoch 6 Batch 60] Loss: 0.20934820933824477 Training accuracy=0.925333\n",
      "[Epoch 6 Batch 70] Loss: 0.18812905779482567 Training accuracy=0.926496\n",
      "[Epoch 6 Batch 80] Loss: 0.21616478275837292 Training accuracy=0.923997\n",
      "[Epoch 6 Batch 90] Loss: 0.20578348095706003 Training accuracy=0.923506\n",
      "[Epoch 6 Batch 100] Loss: 0.2085615125554502 Training accuracy=0.922339\n",
      "[Epoch 6 Batch 110] Loss: 0.2223714164288311 Training accuracy=0.921453\n",
      "[Epoch 6 Batch 120] Loss: 0.20278805651200216 Training accuracy=0.921875\n",
      "[Epoch 6 Batch 130] Loss: 0.20469627122841197 Training accuracy=0.921756\n",
      "[Epoch 6 Batch 140] Loss: 0.20583120210508407 Training accuracy=0.921487\n",
      "[Epoch 6 Batch 150] Loss: 0.1957406504324681 Training accuracy=0.921306\n",
      "[Epoch 6 Batch 160] Loss: 0.21420087685006003 Training accuracy=0.920419\n",
      "[Epoch 6 Batch 170] Loss: 0.22600417177916562 Training accuracy=0.919408\n",
      "[Epoch 6 Batch 180] Loss: 0.2236130121210257 Training accuracy=0.918940\n",
      "\n",
      "Epoch 6., Validation Accuracy 0.908,Validation Loss =0.23301071 \n",
      "\n",
      "[Epoch 7 Batch 10] Loss: 0.1631573067878178 Training accuracy=0.947443\n",
      "[Epoch 7 Batch 20] Loss: 0.17272635163675842 Training accuracy=0.936012\n",
      "[Epoch 7 Batch 30] Loss: 0.15824735674697563 Training accuracy=0.938004\n",
      "[Epoch 7 Batch 40] Loss: 0.15020719267270663 Training accuracy=0.938834\n",
      "[Epoch 7 Batch 50] Loss: 0.18192355327262985 Training accuracy=0.935662\n",
      "[Epoch 7 Batch 60] Loss: 0.1756706477526021 Training accuracy=0.935451\n",
      "[Epoch 7 Batch 70] Loss: 0.17134240400788842 Training accuracy=0.934419\n",
      "[Epoch 7 Batch 80] Loss: 0.15976324614843734 Training accuracy=0.934414\n",
      "[Epoch 7 Batch 90] Loss: 0.1604650238403276 Training accuracy=0.934667\n",
      "[Epoch 7 Batch 100] Loss: 0.14862128552865528 Training accuracy=0.936108\n",
      "[Epoch 7 Batch 110] Loss: 0.14892789492961908 Training accuracy=0.936444\n",
      "[Epoch 7 Batch 120] Loss: 0.17172576429243402 Training accuracy=0.934982\n",
      "[Epoch 7 Batch 130] Loss: 0.16915209935642625 Training accuracy=0.934816\n",
      "[Epoch 7 Batch 140] Loss: 0.176785798185842 Training accuracy=0.934453\n",
      "[Epoch 7 Batch 150] Loss: 0.1720007150018478 Training accuracy=0.933982\n",
      "[Epoch 7 Batch 160] Loss: 0.16826015869221883 Training accuracy=0.933958\n",
      "[Epoch 7 Batch 170] Loss: 0.17353107414218327 Training accuracy=0.933480\n",
      "[Epoch 7 Batch 180] Loss: 0.16055925684733466 Training accuracy=0.933961\n",
      "\n",
      "Epoch 7., Validation Accuracy 0.881,Validation Loss =0.2735613 \n",
      "\n",
      "[Epoch 8 Batch 10] Loss: 0.1347188559559921 Training accuracy=0.953125\n",
      "[Epoch 8 Batch 20] Loss: 0.11976146860323296 Training accuracy=0.952009\n",
      "[Epoch 8 Batch 30] Loss: 0.12097245977487084 Training accuracy=0.953125\n",
      "[Epoch 8 Batch 40] Loss: 0.11646190270400272 Training accuracy=0.952744\n",
      "[Epoch 8 Batch 50] Loss: 0.12563258639711158 Training accuracy=0.950980\n",
      "[Epoch 8 Batch 60] Loss: 0.11048758603466342 Training accuracy=0.951588\n",
      "[Epoch 8 Batch 70] Loss: 0.14011389384772768 Training accuracy=0.948614\n",
      "[Epoch 8 Batch 80] Loss: 0.13520758072971673 Training accuracy=0.947820\n",
      "[Epoch 8 Batch 90] Loss: 0.131582316724849 Training accuracy=0.947716\n",
      "[Epoch 8 Batch 100] Loss: 0.11863418479627579 Training accuracy=0.948871\n",
      "[Epoch 8 Batch 110] Loss: 0.1351873543059003 Training accuracy=0.948198\n",
      "[Epoch 8 Batch 120] Loss: 0.11817286269839404 Training accuracy=0.949186\n",
      "[Epoch 8 Batch 130] Loss: 0.1342666544829809 Training accuracy=0.949129\n",
      "[Epoch 8 Batch 140] Loss: 0.14113928335420498 Training accuracy=0.948471\n",
      "[Epoch 8 Batch 150] Loss: 0.14271483558843726 Training accuracy=0.947899\n",
      "[Epoch 8 Batch 160] Loss: 0.1408260361979098 Training accuracy=0.947739\n",
      "[Epoch 8 Batch 170] Loss: 0.1357789544734699 Training accuracy=0.947597\n",
      "[Epoch 8 Batch 180] Loss: 0.1444285860890322 Training accuracy=0.946910\n",
      "\n",
      "Epoch 8., Validation Accuracy 0.909,Validation Loss =0.26119 \n",
      "\n",
      "[Epoch 9 Batch 10] Loss: 0.11139853394059862 Training accuracy=0.965199\n",
      "[Epoch 9 Batch 20] Loss: 0.09647706920319447 Training accuracy=0.964658\n",
      "[Epoch 9 Batch 30] Loss: 0.09695959669921494 Training accuracy=0.963458\n",
      "[Epoch 9 Batch 40] Loss: 0.08734868255302466 Training accuracy=0.963034\n",
      "[Epoch 9 Batch 50] Loss: 0.09821352879885684 Training accuracy=0.963235\n",
      "[Epoch 9 Batch 60] Loss: 0.08135460486142329 Training accuracy=0.965420\n",
      "[Epoch 9 Batch 70] Loss: 0.09489150578620822 Training accuracy=0.964569\n",
      "[Epoch 9 Batch 80] Loss: 0.08584061016631123 Training accuracy=0.965374\n",
      "[Epoch 9 Batch 90] Loss: 0.08486226644138885 Training accuracy=0.965831\n",
      "[Epoch 9 Batch 100] Loss: 0.09526206559906909 Training accuracy=0.965424\n",
      "[Epoch 9 Batch 110] Loss: 0.11053974693704609 Training accuracy=0.964597\n",
      "[Epoch 9 Batch 120] Loss: 0.12791465415406217 Training accuracy=0.962939\n",
      "[Epoch 9 Batch 130] Loss: 0.12897142300460887 Training accuracy=0.962011\n",
      "[Epoch 9 Batch 140] Loss: 0.1069550315339673 Training accuracy=0.961824\n",
      "[Epoch 9 Batch 150] Loss: 0.09151165033418227 Training accuracy=0.962179\n",
      "[Epoch 9 Batch 160] Loss: 0.09861715776979198 Training accuracy=0.961957\n",
      "[Epoch 9 Batch 170] Loss: 0.11322396820955884 Training accuracy=0.961577\n",
      "[Epoch 9 Batch 180] Loss: 0.11835635887801521 Training accuracy=0.960981\n",
      "\n",
      "Epoch 9., Validation Accuracy 0.907,Validation Loss =0.28846532 \n",
      "\n"
     ]
    }
   ],
   "source": [
    "epochs = 10\n",
    "smoothing_constant = .1\n",
    "metric = mx.metric.Accuracy()\n",
    "\n",
    "train_acc=[]\n",
    "val_acc=[]\n",
    "\n",
    "train_loss=[]\n",
    "val_loss=[]\n",
    "\n",
    "\n",
    "for e in range(epochs):\n",
    "    metric.reset()\n",
    "    for i, (d, l) in enumerate(train_data):\n",
    "        data = d.as_in_context(ctx)\n",
    "        label = l.as_in_context(ctx)\n",
    "        with autograd.record():\n",
    "            output = alex_net(data)\n",
    "            loss = softmax_cross_entropy(output, label)\n",
    "        \n",
    "        loss.backward()\n",
    "        trainer.step(data.shape[0])\n",
    "                \n",
    "        ##########################\n",
    "        #  Keep a moving average of the losses\n",
    "        ##########################\n",
    "        metric.update([label], [output])\n",
    "        curr_loss = nd.mean(loss).asscalar()\n",
    "        moving_loss = (curr_loss if ((i == 0) and (e == 0))\n",
    "                       else (1 - smoothing_constant) * moving_loss + (smoothing_constant) * curr_loss)\n",
    "\n",
    "        \n",
    "        if i % 10 == 0 and i > 0:\n",
    "                name, acc = metric.get()\n",
    "                print('[Epoch %d Batch %d] Loss: %s Training %s=%f'%(e, i, moving_loss, name, acc))\n",
    "           \n",
    "    _, train_accuracy = metric.get()\n",
    "    \n",
    "    test_accuracy,test_loss = evaluate_accuracy(test_data, alex_net)\n",
    "    \n",
    "    train_acc.append(train_accuracy)\n",
    "    val_acc.append(test_accuracy)\n",
    "    \n",
    "    train_loss.append(moving_loss)\n",
    "    val_loss.append(test_loss)\n",
    "    \n",
    "    #_, train_accuracy = metric.get()\n",
    "    #print(\"Epoch %s. Loss: %s, Train_acc %s\\n\" % (e, moving_loss, train_accuracy))\n",
    "\n",
    "    #test_accuracy = evaluate_accuracy(test_data, alex_net)\n",
    "    print(\"\\nEpoch %s., Validation Accuracy %s,Validation Loss =%s \\n\" % (e, test_accuracy,val_loss[e]))"
   ]
  },
  {
   "cell_type": "markdown",
   "metadata": {},
   "source": [
    "# Plot Loss and Accuracy"
   ]
  },
  {
   "cell_type": "code",
   "execution_count": 15,
   "metadata": {},
   "outputs": [
    {
     "data": {
      "image/png": "[encoded data removed]",
      "text/plain": [
       "<Figure size 432x288 with 2 Axes>"
      ]
     },
     "metadata": {},
     "output_type": "display_data"
    }
   ],
   "source": [
    "plt.ion()\n",
    "fig = plt.figure()\n",
    "subfig=fig.add_subplot(122)\n",
    "subfig.plot(train_acc, label = 'training')\n",
    "if val_acc is not None:\n",
    "    subfig.plot(val_acc, label = 'validation')\n",
    "    \n",
    "subfig.set_title('Model Accuracy')\n",
    "subfig.set_xlabel('Epoch')\n",
    "subfig.legend(loc='upper left')\n",
    "\n",
    "subfig1=fig.add_subplot(121)\n",
    "subfig1.plot(train_loss, label='training')\n",
    "if val_loss is not None:\n",
    "    subfig1.plot(val_loss, label = 'validation')\n",
    "subfig1.set_title('Model Loss')\n",
    "subfig1.set_xlabel('Epoch')\n",
    "subfig1.legend(loc='upper left')\n",
    "plt.ioff()\n"
   ]
  },
  {
   "cell_type": "code",
   "execution_count": null,
   "metadata": {},
   "outputs": [],
   "source": []
  }
 ],
 "metadata": {
  "kernelspec": {
   "display_name": "Python 3",
   "language": "python",
   "name": "python3"
  },
  "language_info": {
   "codemirror_mode": {
    "name": "ipython",
    "version": 3
   },
   "file_extension": ".py",
   "mimetype": "text/x-python",
   "name": "python",
   "nbconvert_exporter": "python",
   "pygments_lexer": "ipython3",
   "version": "3.6.5"
  }
 },
 "nbformat": 4,
 "nbformat_minor": 2
}
