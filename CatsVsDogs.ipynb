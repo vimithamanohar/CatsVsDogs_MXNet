{
 "cells": [
  {
   "cell_type": "markdown",
   "metadata": {},
   "source": [
    "# Classification: Cats VS Dogs\n",
    "\n",
    "We downloaded the dataset from kaggle. The training archive contains 25,000 images of dogs and cats. "
   ]
  },
  {
   "cell_type": "markdown",
   "metadata": {},
   "source": [
    "# Using own data with included Datasets"
   ]
  },
  {
   "cell_type": "code",
   "execution_count": 1,
   "metadata": {},
   "outputs": [],
   "source": [
    "import os\n",
    "import mxnet as mx\n",
    "import matplotlib.pyplot as plt\n",
    "from mxnet import gluon\n",
    "from mxnet import nd, autograd\n",
    "import numpy as np\n",
    "from resnet import *\n",
    "\n"
   ]
  },
  {
   "cell_type": "code",
   "execution_count": null,
   "metadata": {},
   "outputs": [],
   "source": [
    "def aug_transform(data, label):\n",
    "    data = data.astype('float32')/255 # normalize the data\n",
    "    size= 224\n",
    "    aug = mx.image.ForceResizeAug((size,size)) # resize the image to 224x224\n",
    "    data = aug(data)\n",
    "    data=data.transpose((2, 0, 1))\n",
    "    return data, label"
   ]
  },
  {
   "cell_type": "markdown",
   "metadata": {},
   "source": [
    "# Reading Training date"
   ]
  },
  {
   "cell_type": "code",
   "execution_count": null,
   "metadata": {},
   "outputs": [],
   "source": [
    "data_folder = \"data\"\n",
    "dataset_name = \"CatsVsDogs\"\n",
    "\n",
    "training_path = os.path.join(data_folder, dataset_name)\n",
    "print(training_path)\n",
    "\n",
    "train_dataset = mx.gluon.data.vision.datasets.ImageFolderDataset(training_path,transform=aug_transform)\n",
    "\n"
   ]
  },
  {
   "cell_type": "code",
   "execution_count": null,
   "metadata": {},
   "outputs": [],
   "source": [
    "sample_idx = 17990\n",
    "sample = train_dataset[sample_idx]\n",
    "data = sample[0]\n",
    "label = sample[1]\n",
    "\n",
    "#plt.imshow(data.asnumpy(), cmap='gray')\n",
    "print(\"Data type: {}\".format(data.shape))\n",
    "print(\"Label: {}\".format(label))\n",
    "print(\"Label description: {}\".format(train_dataset.synsets[label]))\n",
    "assert label == 1"
   ]
  },
  {
   "cell_type": "markdown",
   "metadata": {},
   "source": [
    "# Test data"
   ]
  },
  {
   "cell_type": "code",
   "execution_count": null,
   "metadata": {},
   "outputs": [],
   "source": [
    "testing_path = os.path.join(data_folder, \"{}_test\".format(dataset_name))\n",
    "print(testing_path)\n",
    "test_dataset = mx.gluon.data.vision.datasets.ImageFolderDataset(testing_path,transform=aug_transform)"
   ]
  },
  {
   "cell_type": "code",
   "execution_count": null,
   "metadata": {},
   "outputs": [],
   "source": [
    "sample_idx = 199\n",
    "\n",
    "sample = test_dataset[sample_idx]\n",
    "data = sample[0]\n",
    "label = sample[1]\n",
    "\n",
    "#plt.imshow(data.asnumpy(), cmap='gray')\n",
    "print(\"Data type: {}\".format(data.shape))\n",
    "print(\"Label: {}\".format(label))\n",
    "print(\"Label description: {}\".format(train_dataset.synsets[label]))"
   ]
  },
  {
   "cell_type": "markdown",
   "metadata": {},
   "source": [
    "# Batch size and DataLoader for train_data, test_dataset"
   ]
  },
  {
   "cell_type": "code",
   "execution_count": null,
   "metadata": {},
   "outputs": [],
   "source": [
    "batch_size = 128\n",
    "train_data = gluon.data.DataLoader(train_dataset, batch_size, shuffle=True)\n",
    "test_data = gluon.data.DataLoader(test_dataset,batch_size, shuffle=False)"
   ]
  },
  {
   "cell_type": "markdown",
   "metadata": {},
   "source": [
    "# The AlexNet architecture"
   ]
  },
  {
   "cell_type": "code",
   "execution_count": null,
   "metadata": {},
   "outputs": [],
   "source": [
    "alex_net = gluon.nn.HybridSequential()\n",
    "with alex_net.name_scope():\n",
    "    #  First convolutional layer\n",
    "    alex_net.add(gluon.nn.Conv2D(64, kernel_size=11, strides=4,padding=2, activation='relu'))    \n",
    "    alex_net.add(gluon.nn.MaxPool2D(pool_size=3, strides=2))\n",
    "    #  Second convolutional layer\n",
    "    alex_net.add(gluon.nn.Conv2D(192, kernel_size=5, padding=2, activation='relu'))\n",
    "    alex_net.add(gluon.nn.MaxPool2D(pool_size=3, strides=2))\n",
    "    # Third convolutional layer\n",
    "    alex_net.add(gluon.nn.Conv2D(384, kernel_size=3, padding=1, activation='relu'))\n",
    "    # Fourth convolutional layer\n",
    "    alex_net.add(gluon.nn.Conv2D(256, kernel_size=3, padding=1, activation='relu'))\n",
    "    # Fifth convolutional layer\n",
    "    alex_net.add(gluon.nn.Conv2D(256, kernel_size=3, padding=1, activation='relu'))\n",
    "    alex_net.add(gluon.nn.MaxPool2D(pool_size=3, strides=2))\n",
    "     # Flatten and apply fullly connected layers\n",
    "    alex_net.add(gluon.nn.Flatten())\n",
    "    alex_net.add(gluon.nn.Dense(4096, activation='relu'))\n",
    "    alex_net.add(gluon.nn.Dropout(0.5))\n",
    "    alex_net.add(gluon.nn.Dense(4096, activation='relu'))\n",
    "    alex_net.add(gluon.nn.Dropout(0.5))\n",
    "    alex_net.add(gluon.nn.Dense(2))\n",
    "            \n",
    "    "
   ]
  },
  {
   "cell_type": "markdown",
   "metadata": {},
   "source": [
    "# Initialize parameters"
   ]
  },
  {
   "cell_type": "code",
   "execution_count": null,
   "metadata": {},
   "outputs": [],
   "source": [
    "ctx = mx.gpu()\n",
    "alex_net.collect_params().initialize(mx.init.Xavier(magnitude=2.24), ctx=ctx)"
   ]
  },
  {
   "cell_type": "markdown",
   "metadata": {},
   "source": [
    "# Optimizer "
   ]
  },
  {
   "cell_type": "code",
   "execution_count": null,
   "metadata": {},
   "outputs": [],
   "source": [
    "trainer = gluon.Trainer(alex_net.collect_params(), 'adam', {'learning_rate': .0001})"
   ]
  },
  {
   "cell_type": "markdown",
   "metadata": {},
   "source": [
    "# Softmax cross-entropy loss"
   ]
  },
  {
   "cell_type": "code",
   "execution_count": null,
   "metadata": {},
   "outputs": [],
   "source": [
    "softmax_cross_entropy = gluon.loss.SoftmaxCrossEntropyLoss()"
   ]
  },
  {
   "cell_type": "markdown",
   "metadata": {},
   "source": [
    "# Evaluation Loop"
   ]
  },
  {
   "cell_type": "code",
   "execution_count": null,
   "metadata": {},
   "outputs": [],
   "source": [
    "def evaluate_accuracy(data_iterator, net):\n",
    "    acc = mx.metric.Accuracy()\n",
    "    curr_loss= []\n",
    "    for d, l in data_iterator:\n",
    "        data = d.as_in_context(ctx)\n",
    "        label = l.as_in_context(ctx)\n",
    "        output = net(data)\n",
    "        \n",
    "        loss = softmax_cross_entropy(output, label)\n",
    "        \n",
    "        predictions = nd.argmax(output, axis=1)\n",
    "        acc.update(preds=[predictions], labels=[label])\n",
    "        \n",
    "        curr_loss.append(nd.mean(loss).asscalar())\n",
    "        \n",
    "        #print(acc)\n",
    "    \n",
    "    return acc.get()[1], np.average(curr_loss)"
   ]
  },
  {
   "cell_type": "markdown",
   "metadata": {},
   "source": [
    "# Training loop"
   ]
  },
  {
   "cell_type": "code",
   "execution_count": null,
   "metadata": {
    "scrolled": false
   },
   "outputs": [],
   "source": [
    "epochs = 10\n",
    "smoothing_constant = .1\n",
    "metric = mx.metric.Accuracy()\n",
    "\n",
    "train_acc=[]\n",
    "val_acc=[]\n",
    "\n",
    "train_loss=[]\n",
    "val_loss=[]\n",
    "\n",
    "\n",
    "for e in range(epochs):\n",
    "    metric.reset()\n",
    "    for i, (d, l) in enumerate(train_data):\n",
    "        data = d.as_in_context(ctx)\n",
    "        label = l.as_in_context(ctx)\n",
    "        with autograd.record():\n",
    "            output = alex_net(data)\n",
    "            loss = softmax_cross_entropy(output, label)\n",
    "        \n",
    "        loss.backward()\n",
    "        trainer.step(data.shape[0])\n",
    "                \n",
    "        ##########################\n",
    "        #  Keep a moving average of the losses\n",
    "        ##########################\n",
    "        metric.update([label], [output])\n",
    "        curr_loss = nd.mean(loss).asscalar()\n",
    "        moving_loss = (curr_loss if ((i == 0) and (e == 0))\n",
    "                       else (1 - smoothing_constant) * moving_loss + (smoothing_constant) * curr_loss)\n",
    "\n",
    "        \n",
    "        if i % 10 == 0 and i > 0:\n",
    "                name, acc = metric.get()\n",
    "                print('[Epoch %d Batch %d] Loss: %s Training %s=%f'%(e, i, moving_loss, name, acc))\n",
    "           \n",
    "    _, train_accuracy = metric.get()\n",
    "    \n",
    "    test_accuracy,test_loss = evaluate_accuracy(test_data, alex_net)\n",
    "    \n",
    "    train_acc.append(train_accuracy)\n",
    "    val_acc.append(test_accuracy)\n",
    "    \n",
    "    train_loss.append(moving_loss)\n",
    "    val_loss.append(test_loss)\n",
    "    \n",
    "    #_, train_accuracy = metric.get()\n",
    "    #print(\"Epoch %s. Loss: %s, Train_acc %s\\n\" % (e, moving_loss, train_accuracy))\n",
    "\n",
    "    #test_accuracy = evaluate_accuracy(test_data, alex_net)\n",
    "    print(\"\\nEpoch %s., Validation Accuracy %s,Validation Loss =%s \\n\" % (e, test_accuracy,val_loss[e]))"
   ]
  },
  {
   "cell_type": "markdown",
   "metadata": {},
   "source": [
    "# Learning curve ( Plot Loss and Accuracy)"
   ]
  },
  {
   "cell_type": "code",
   "execution_count": null,
   "metadata": {},
   "outputs": [],
   "source": [
    "plt.ion()\n",
    "fig = plt.figure()\n",
    "subfig=fig.add_subplot(122)\n",
    "subfig.plot(train_acc, label = 'training')\n",
    "if val_acc is not None:\n",
    "    subfig.plot(val_acc, label = 'validation')\n",
    "    \n",
    "subfig.set_title('Model Accuracy')\n",
    "subfig.set_xlabel('Epoch')\n",
    "subfig.legend(loc='upper left')\n",
    "\n",
    "subfig1=fig.add_subplot(121)\n",
    "subfig1.plot(train_loss, label='training')\n",
    "if val_loss is not None:\n",
    "    subfig1.plot(val_loss, label = 'validation')\n",
    "subfig1.set_title('Model Loss')\n",
    "subfig1.set_xlabel('Epoch')\n",
    "subfig1.legend(loc='upper left')\n",
    "plt.ioff()\n"
   ]
  },
  {
   "cell_type": "markdown",
   "metadata": {},
   "source": [
    "The plot shows after epoch 6 the training accuracy is high and the validation score is low, which shows it is overfitting the training data. The best accuracy we can get using Alnext is 90.8%."
   ]
  },
  {
   "cell_type": "code",
   "execution_count": null,
   "metadata": {},
   "outputs": [],
   "source": []
  }
 ],
 "metadata": {
  "kernelspec": {
   "display_name": "Python 3",
   "language": "python",
   "name": "python3"
  },
  "language_info": {
   "codemirror_mode": {
    "name": "ipython",
    "version": 3
   },
   "file_extension": ".py",
   "mimetype": "text/x-python",
   "name": "python",
   "nbconvert_exporter": "python",
   "pygments_lexer": "ipython3",
   "version": "3.6.5"
  }
 },
 "nbformat": 4,
 "nbformat_minor": 2
}
